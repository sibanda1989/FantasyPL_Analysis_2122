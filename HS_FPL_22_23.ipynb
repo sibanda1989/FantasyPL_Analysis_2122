{
 "cells": [
  {
   "cell_type": "markdown",
   "metadata": {},
   "source": [
    "Importing Libraries"
   ]
  },
  {
   "cell_type": "code",
   "execution_count": 1,
   "metadata": {},
   "outputs": [],
   "source": [
    "import requests\n",
    "import pandas as pd\n",
    "import numpy as np"
   ]
  },
  {
   "cell_type": "markdown",
   "metadata": {},
   "source": [
    "Loading the data using the requests library from the API url"
   ]
  },
  {
   "cell_type": "code",
   "execution_count": 4,
   "metadata": {},
   "outputs": [],
   "source": [
    "#fantasy premier league api url\n",
    "url = 'https://fantasy.premierleague.com/api/bootstrap-static/'\n",
    "\n",
    "#using the url to make a GET request from the API endpoint\n",
    "r = requests.get(url)\n",
    "\n",
    "#transforming the request into a JSON object\n",
    "json =  r.json()"
   ]
  },
  {
   "cell_type": "code",
   "execution_count": 5,
   "metadata": {},
   "outputs": [
    {
     "data": {
      "text/plain": [
       "dict_keys(['events', 'game_settings', 'phases', 'teams', 'total_players', 'elements', 'element_stats', 'element_types'])"
      ]
     },
     "execution_count": 5,
     "metadata": {},
     "output_type": "execute_result"
    }
   ],
   "source": [
    "#lets have a look at the json keys\n",
    "json.keys()"
   ]
  },
  {
   "cell_type": "code",
   "execution_count": 25,
   "metadata": {},
   "outputs": [],
   "source": [
    "#choosing keys to work with into a list\n",
    "keys_list = ['events', 'phases', 'teams', 'elements', 'element_stats', 'element_types']"
   ]
  },
  {
   "cell_type": "code",
   "execution_count": 27,
   "metadata": {},
   "outputs": [],
   "source": [
    "#initializing empty dictionaries to append new dataframes\n",
    "dfs = {}\n",
    "\n",
    "#populating dictionary\n",
    "for entry in keys_list:\n",
    "    dfs[entry] = pd.DataFrame(json[entry])"
   ]
  },
  {
   "cell_type": "markdown",
   "metadata": {},
   "source": [
    "1. Events"
   ]
  },
  {
   "cell_type": "code",
   "execution_count": 32,
   "metadata": {},
   "outputs": [],
   "source": [
    "events_df = dfs['events']"
   ]
  },
  {
   "cell_type": "code",
   "execution_count": 33,
   "metadata": {},
   "outputs": [
    {
     "data": {
      "text/html": [
       "<div>\n",
       "<style scoped>\n",
       "    .dataframe tbody tr th:only-of-type {\n",
       "        vertical-align: middle;\n",
       "    }\n",
       "\n",
       "    .dataframe tbody tr th {\n",
       "        vertical-align: top;\n",
       "    }\n",
       "\n",
       "    .dataframe thead th {\n",
       "        text-align: right;\n",
       "    }\n",
       "</style>\n",
       "<table border=\"1\" class=\"dataframe\">\n",
       "  <thead>\n",
       "    <tr style=\"text-align: right;\">\n",
       "      <th></th>\n",
       "      <th>id</th>\n",
       "      <th>name</th>\n",
       "      <th>deadline_time</th>\n",
       "      <th>average_entry_score</th>\n",
       "      <th>finished</th>\n",
       "      <th>data_checked</th>\n",
       "      <th>highest_scoring_entry</th>\n",
       "      <th>deadline_time_epoch</th>\n",
       "      <th>deadline_time_game_offset</th>\n",
       "      <th>highest_score</th>\n",
       "      <th>...</th>\n",
       "      <th>cup_leagues_created</th>\n",
       "      <th>h2h_ko_matches_created</th>\n",
       "      <th>chip_plays</th>\n",
       "      <th>most_selected</th>\n",
       "      <th>most_transferred_in</th>\n",
       "      <th>top_element</th>\n",
       "      <th>top_element_info</th>\n",
       "      <th>transfers_made</th>\n",
       "      <th>most_captained</th>\n",
       "      <th>most_vice_captained</th>\n",
       "    </tr>\n",
       "  </thead>\n",
       "  <tbody>\n",
       "    <tr>\n",
       "      <th>0</th>\n",
       "      <td>1</td>\n",
       "      <td>Gameweek 1</td>\n",
       "      <td>2022-08-05T17:30:00Z</td>\n",
       "      <td>57</td>\n",
       "      <td>True</td>\n",
       "      <td>True</td>\n",
       "      <td>7309963.0</td>\n",
       "      <td>1659720600</td>\n",
       "      <td>0</td>\n",
       "      <td>119.0</td>\n",
       "      <td>...</td>\n",
       "      <td>False</td>\n",
       "      <td>False</td>\n",
       "      <td>[{'chip_name': 'bboost', 'num_played': 170273}...</td>\n",
       "      <td>28.0</td>\n",
       "      <td>105.0</td>\n",
       "      <td>366.0</td>\n",
       "      <td>{'id': 366, 'points': 15}</td>\n",
       "      <td>0</td>\n",
       "      <td>283.0</td>\n",
       "      <td>318.0</td>\n",
       "    </tr>\n",
       "    <tr>\n",
       "      <th>1</th>\n",
       "      <td>2</td>\n",
       "      <td>Gameweek 2</td>\n",
       "      <td>2022-08-13T10:00:00Z</td>\n",
       "      <td>57</td>\n",
       "      <td>True</td>\n",
       "      <td>True</td>\n",
       "      <td>3977474.0</td>\n",
       "      <td>1660384800</td>\n",
       "      <td>0</td>\n",
       "      <td>139.0</td>\n",
       "      <td>...</td>\n",
       "      <td>False</td>\n",
       "      <td>False</td>\n",
       "      <td>[{'chip_name': 'bboost', 'num_played': 136909}...</td>\n",
       "      <td>28.0</td>\n",
       "      <td>318.0</td>\n",
       "      <td>28.0</td>\n",
       "      <td>{'id': 28, 'points': 19}</td>\n",
       "      <td>12847501</td>\n",
       "      <td>318.0</td>\n",
       "      <td>283.0</td>\n",
       "    </tr>\n",
       "    <tr>\n",
       "      <th>2</th>\n",
       "      <td>3</td>\n",
       "      <td>Gameweek 3</td>\n",
       "      <td>2022-08-20T10:00:00Z</td>\n",
       "      <td>48</td>\n",
       "      <td>True</td>\n",
       "      <td>True</td>\n",
       "      <td>9105261.0</td>\n",
       "      <td>1660989600</td>\n",
       "      <td>0</td>\n",
       "      <td>118.0</td>\n",
       "      <td>...</td>\n",
       "      <td>False</td>\n",
       "      <td>False</td>\n",
       "      <td>[{'chip_name': 'bboost', 'num_played': 118152}...</td>\n",
       "      <td>28.0</td>\n",
       "      <td>19.0</td>\n",
       "      <td>7.0</td>\n",
       "      <td>{'id': 7, 'points': 16}</td>\n",
       "      <td>20175060</td>\n",
       "      <td>28.0</td>\n",
       "      <td>318.0</td>\n",
       "    </tr>\n",
       "    <tr>\n",
       "      <th>3</th>\n",
       "      <td>4</td>\n",
       "      <td>Gameweek 4</td>\n",
       "      <td>2022-08-27T10:00:00Z</td>\n",
       "      <td>62</td>\n",
       "      <td>True</td>\n",
       "      <td>True</td>\n",
       "      <td>9406675.0</td>\n",
       "      <td>1661594400</td>\n",
       "      <td>0</td>\n",
       "      <td>149.0</td>\n",
       "      <td>...</td>\n",
       "      <td>False</td>\n",
       "      <td>False</td>\n",
       "      <td>[{'chip_name': 'bboost', 'num_played': 145393}...</td>\n",
       "      <td>28.0</td>\n",
       "      <td>225.0</td>\n",
       "      <td>279.0</td>\n",
       "      <td>{'id': 279, 'points': 22}</td>\n",
       "      <td>16105042</td>\n",
       "      <td>283.0</td>\n",
       "      <td>28.0</td>\n",
       "    </tr>\n",
       "    <tr>\n",
       "      <th>4</th>\n",
       "      <td>5</td>\n",
       "      <td>Gameweek 5</td>\n",
       "      <td>2022-08-30T17:00:00Z</td>\n",
       "      <td>62</td>\n",
       "      <td>True</td>\n",
       "      <td>True</td>\n",
       "      <td>2109803.0</td>\n",
       "      <td>1661878800</td>\n",
       "      <td>0</td>\n",
       "      <td>124.0</td>\n",
       "      <td>...</td>\n",
       "      <td>False</td>\n",
       "      <td>False</td>\n",
       "      <td>[{'chip_name': 'bboost', 'num_played': 92307},...</td>\n",
       "      <td>28.0</td>\n",
       "      <td>104.0</td>\n",
       "      <td>318.0</td>\n",
       "      <td>{'id': 318, 'points': 17}</td>\n",
       "      <td>14741619</td>\n",
       "      <td>318.0</td>\n",
       "      <td>28.0</td>\n",
       "    </tr>\n",
       "  </tbody>\n",
       "</table>\n",
       "<p>5 rows × 23 columns</p>\n",
       "</div>"
      ],
      "text/plain": [
       "   id        name         deadline_time  average_entry_score  finished  \\\n",
       "0   1  Gameweek 1  2022-08-05T17:30:00Z                   57      True   \n",
       "1   2  Gameweek 2  2022-08-13T10:00:00Z                   57      True   \n",
       "2   3  Gameweek 3  2022-08-20T10:00:00Z                   48      True   \n",
       "3   4  Gameweek 4  2022-08-27T10:00:00Z                   62      True   \n",
       "4   5  Gameweek 5  2022-08-30T17:00:00Z                   62      True   \n",
       "\n",
       "   data_checked  highest_scoring_entry  deadline_time_epoch  \\\n",
       "0          True              7309963.0           1659720600   \n",
       "1          True              3977474.0           1660384800   \n",
       "2          True              9105261.0           1660989600   \n",
       "3          True              9406675.0           1661594400   \n",
       "4          True              2109803.0           1661878800   \n",
       "\n",
       "   deadline_time_game_offset  highest_score  ...  cup_leagues_created  \\\n",
       "0                          0          119.0  ...                False   \n",
       "1                          0          139.0  ...                False   \n",
       "2                          0          118.0  ...                False   \n",
       "3                          0          149.0  ...                False   \n",
       "4                          0          124.0  ...                False   \n",
       "\n",
       "   h2h_ko_matches_created                                         chip_plays  \\\n",
       "0                   False  [{'chip_name': 'bboost', 'num_played': 170273}...   \n",
       "1                   False  [{'chip_name': 'bboost', 'num_played': 136909}...   \n",
       "2                   False  [{'chip_name': 'bboost', 'num_played': 118152}...   \n",
       "3                   False  [{'chip_name': 'bboost', 'num_played': 145393}...   \n",
       "4                   False  [{'chip_name': 'bboost', 'num_played': 92307},...   \n",
       "\n",
       "   most_selected  most_transferred_in top_element           top_element_info  \\\n",
       "0           28.0                105.0       366.0  {'id': 366, 'points': 15}   \n",
       "1           28.0                318.0        28.0   {'id': 28, 'points': 19}   \n",
       "2           28.0                 19.0         7.0    {'id': 7, 'points': 16}   \n",
       "3           28.0                225.0       279.0  {'id': 279, 'points': 22}   \n",
       "4           28.0                104.0       318.0  {'id': 318, 'points': 17}   \n",
       "\n",
       "   transfers_made  most_captained most_vice_captained  \n",
       "0               0           283.0               318.0  \n",
       "1        12847501           318.0               283.0  \n",
       "2        20175060            28.0               318.0  \n",
       "3        16105042           283.0                28.0  \n",
       "4        14741619           318.0                28.0  \n",
       "\n",
       "[5 rows x 23 columns]"
      ]
     },
     "execution_count": 33,
     "metadata": {},
     "output_type": "execute_result"
    }
   ],
   "source": [
    "events_df.head()"
   ]
  },
  {
   "cell_type": "code",
   "execution_count": 34,
   "metadata": {},
   "outputs": [
    {
     "name": "stdout",
     "output_type": "stream",
     "text": [
      "<class 'pandas.core.frame.DataFrame'>\n",
      "RangeIndex: 38 entries, 0 to 37\n",
      "Data columns (total 23 columns):\n",
      " #   Column                     Non-Null Count  Dtype  \n",
      "---  ------                     --------------  -----  \n",
      " 0   id                         38 non-null     int64  \n",
      " 1   name                       38 non-null     object \n",
      " 2   deadline_time              38 non-null     object \n",
      " 3   average_entry_score        38 non-null     int64  \n",
      " 4   finished                   38 non-null     bool   \n",
      " 5   data_checked               38 non-null     bool   \n",
      " 6   highest_scoring_entry      16 non-null     float64\n",
      " 7   deadline_time_epoch        38 non-null     int64  \n",
      " 8   deadline_time_game_offset  38 non-null     int64  \n",
      " 9   highest_score              16 non-null     float64\n",
      " 10  is_previous                38 non-null     bool   \n",
      " 11  is_current                 38 non-null     bool   \n",
      " 12  is_next                    38 non-null     bool   \n",
      " 13  cup_leagues_created        38 non-null     bool   \n",
      " 14  h2h_ko_matches_created     38 non-null     bool   \n",
      " 15  chip_plays                 38 non-null     object \n",
      " 16  most_selected              16 non-null     float64\n",
      " 17  most_transferred_in        16 non-null     float64\n",
      " 18  top_element                16 non-null     float64\n",
      " 19  top_element_info           16 non-null     object \n",
      " 20  transfers_made             38 non-null     int64  \n",
      " 21  most_captained             16 non-null     float64\n",
      " 22  most_vice_captained        16 non-null     float64\n",
      "dtypes: bool(7), float64(7), int64(5), object(4)\n",
      "memory usage: 5.1+ KB\n"
     ]
    }
   ],
   "source": [
    "events_df.info()"
   ]
  },
  {
   "cell_type": "markdown",
   "metadata": {},
   "source": [
    "2. Phases"
   ]
  },
  {
   "cell_type": "code",
   "execution_count": 35,
   "metadata": {},
   "outputs": [],
   "source": [
    "phases_df = dfs['phases']"
   ]
  },
  {
   "cell_type": "code",
   "execution_count": 36,
   "metadata": {},
   "outputs": [
    {
     "data": {
      "text/html": [
       "<div>\n",
       "<style scoped>\n",
       "    .dataframe tbody tr th:only-of-type {\n",
       "        vertical-align: middle;\n",
       "    }\n",
       "\n",
       "    .dataframe tbody tr th {\n",
       "        vertical-align: top;\n",
       "    }\n",
       "\n",
       "    .dataframe thead th {\n",
       "        text-align: right;\n",
       "    }\n",
       "</style>\n",
       "<table border=\"1\" class=\"dataframe\">\n",
       "  <thead>\n",
       "    <tr style=\"text-align: right;\">\n",
       "      <th></th>\n",
       "      <th>id</th>\n",
       "      <th>name</th>\n",
       "      <th>start_event</th>\n",
       "      <th>stop_event</th>\n",
       "    </tr>\n",
       "  </thead>\n",
       "  <tbody>\n",
       "    <tr>\n",
       "      <th>0</th>\n",
       "      <td>1</td>\n",
       "      <td>Overall</td>\n",
       "      <td>1</td>\n",
       "      <td>38</td>\n",
       "    </tr>\n",
       "    <tr>\n",
       "      <th>1</th>\n",
       "      <td>2</td>\n",
       "      <td>August</td>\n",
       "      <td>1</td>\n",
       "      <td>5</td>\n",
       "    </tr>\n",
       "    <tr>\n",
       "      <th>2</th>\n",
       "      <td>3</td>\n",
       "      <td>September</td>\n",
       "      <td>6</td>\n",
       "      <td>8</td>\n",
       "    </tr>\n",
       "    <tr>\n",
       "      <th>3</th>\n",
       "      <td>4</td>\n",
       "      <td>October</td>\n",
       "      <td>9</td>\n",
       "      <td>14</td>\n",
       "    </tr>\n",
       "    <tr>\n",
       "      <th>4</th>\n",
       "      <td>5</td>\n",
       "      <td>November</td>\n",
       "      <td>15</td>\n",
       "      <td>16</td>\n",
       "    </tr>\n",
       "  </tbody>\n",
       "</table>\n",
       "</div>"
      ],
      "text/plain": [
       "   id       name  start_event  stop_event\n",
       "0   1    Overall            1          38\n",
       "1   2     August            1           5\n",
       "2   3  September            6           8\n",
       "3   4    October            9          14\n",
       "4   5   November           15          16"
      ]
     },
     "execution_count": 36,
     "metadata": {},
     "output_type": "execute_result"
    }
   ],
   "source": [
    "phases_df.head()"
   ]
  },
  {
   "cell_type": "markdown",
   "metadata": {},
   "source": [
    "3. Teams"
   ]
  },
  {
   "cell_type": "code",
   "execution_count": 37,
   "metadata": {},
   "outputs": [],
   "source": [
    "teams_df = dfs['teams']"
   ]
  },
  {
   "cell_type": "code",
   "execution_count": 39,
   "metadata": {},
   "outputs": [
    {
     "data": {
      "text/plain": [
       "(20, 21)"
      ]
     },
     "execution_count": 39,
     "metadata": {},
     "output_type": "execute_result"
    }
   ],
   "source": [
    "teams_df.shape"
   ]
  },
  {
   "cell_type": "markdown",
   "metadata": {},
   "source": [
    "4. Elements"
   ]
  },
  {
   "cell_type": "code",
   "execution_count": 40,
   "metadata": {},
   "outputs": [],
   "source": [
    "elements_df = dfs['elements']"
   ]
  },
  {
   "cell_type": "code",
   "execution_count": 41,
   "metadata": {},
   "outputs": [
    {
     "data": {
      "text/html": [
       "<div>\n",
       "<style scoped>\n",
       "    .dataframe tbody tr th:only-of-type {\n",
       "        vertical-align: middle;\n",
       "    }\n",
       "\n",
       "    .dataframe tbody tr th {\n",
       "        vertical-align: top;\n",
       "    }\n",
       "\n",
       "    .dataframe thead th {\n",
       "        text-align: right;\n",
       "    }\n",
       "</style>\n",
       "<table border=\"1\" class=\"dataframe\">\n",
       "  <thead>\n",
       "    <tr style=\"text-align: right;\">\n",
       "      <th></th>\n",
       "      <th>chance_of_playing_next_round</th>\n",
       "      <th>chance_of_playing_this_round</th>\n",
       "      <th>code</th>\n",
       "      <th>cost_change_event</th>\n",
       "      <th>cost_change_event_fall</th>\n",
       "      <th>cost_change_start</th>\n",
       "      <th>cost_change_start_fall</th>\n",
       "      <th>dreamteam_count</th>\n",
       "      <th>element_type</th>\n",
       "      <th>ep_next</th>\n",
       "      <th>...</th>\n",
       "      <th>now_cost_rank</th>\n",
       "      <th>now_cost_rank_type</th>\n",
       "      <th>form_rank</th>\n",
       "      <th>form_rank_type</th>\n",
       "      <th>points_per_game_rank</th>\n",
       "      <th>points_per_game_rank_type</th>\n",
       "      <th>selected_rank</th>\n",
       "      <th>selected_rank_type</th>\n",
       "      <th>starts_per_90</th>\n",
       "      <th>clean_sheets_per_90</th>\n",
       "    </tr>\n",
       "  </thead>\n",
       "  <tbody>\n",
       "    <tr>\n",
       "      <th>0</th>\n",
       "      <td>100.0</td>\n",
       "      <td>100.0</td>\n",
       "      <td>58822</td>\n",
       "      <td>0</td>\n",
       "      <td>0</td>\n",
       "      <td>-3</td>\n",
       "      <td>3</td>\n",
       "      <td>0</td>\n",
       "      <td>2</td>\n",
       "      <td>1.0</td>\n",
       "      <td>...</td>\n",
       "      <td>544</td>\n",
       "      <td>157</td>\n",
       "      <td>303</td>\n",
       "      <td>101</td>\n",
       "      <td>376</td>\n",
       "      <td>141</td>\n",
       "      <td>402</td>\n",
       "      <td>148</td>\n",
       "      <td>0.00000</td>\n",
       "      <td>0.00000</td>\n",
       "    </tr>\n",
       "    <tr>\n",
       "      <th>1</th>\n",
       "      <td>NaN</td>\n",
       "      <td>NaN</td>\n",
       "      <td>84450</td>\n",
       "      <td>0</td>\n",
       "      <td>0</td>\n",
       "      <td>1</td>\n",
       "      <td>-1</td>\n",
       "      <td>1</td>\n",
       "      <td>3</td>\n",
       "      <td>4.7</td>\n",
       "      <td>...</td>\n",
       "      <td>171</td>\n",
       "      <td>99</td>\n",
       "      <td>53</td>\n",
       "      <td>27</td>\n",
       "      <td>42</td>\n",
       "      <td>20</td>\n",
       "      <td>83</td>\n",
       "      <td>28</td>\n",
       "      <td>0.07719</td>\n",
       "      <td>0.46312</td>\n",
       "    </tr>\n",
       "    <tr>\n",
       "      <th>2</th>\n",
       "      <td>100.0</td>\n",
       "      <td>100.0</td>\n",
       "      <td>153256</td>\n",
       "      <td>0</td>\n",
       "      <td>0</td>\n",
       "      <td>-3</td>\n",
       "      <td>3</td>\n",
       "      <td>1</td>\n",
       "      <td>3</td>\n",
       "      <td>1.0</td>\n",
       "      <td>...</td>\n",
       "      <td>551</td>\n",
       "      <td>284</td>\n",
       "      <td>304</td>\n",
       "      <td>141</td>\n",
       "      <td>343</td>\n",
       "      <td>150</td>\n",
       "      <td>209</td>\n",
       "      <td>69</td>\n",
       "      <td>0.00000</td>\n",
       "      <td>0.00000</td>\n",
       "    </tr>\n",
       "    <tr>\n",
       "      <th>3</th>\n",
       "      <td>NaN</td>\n",
       "      <td>NaN</td>\n",
       "      <td>156074</td>\n",
       "      <td>0</td>\n",
       "      <td>0</td>\n",
       "      <td>-3</td>\n",
       "      <td>3</td>\n",
       "      <td>0</td>\n",
       "      <td>2</td>\n",
       "      <td>0.7</td>\n",
       "      <td>...</td>\n",
       "      <td>552</td>\n",
       "      <td>163</td>\n",
       "      <td>342</td>\n",
       "      <td>117</td>\n",
       "      <td>379</td>\n",
       "      <td>144</td>\n",
       "      <td>419</td>\n",
       "      <td>155</td>\n",
       "      <td>0.00000</td>\n",
       "      <td>0.00000</td>\n",
       "    </tr>\n",
       "    <tr>\n",
       "      <th>4</th>\n",
       "      <td>100.0</td>\n",
       "      <td>100.0</td>\n",
       "      <td>167199</td>\n",
       "      <td>0</td>\n",
       "      <td>0</td>\n",
       "      <td>-2</td>\n",
       "      <td>2</td>\n",
       "      <td>0</td>\n",
       "      <td>3</td>\n",
       "      <td>4.5</td>\n",
       "      <td>...</td>\n",
       "      <td>260</td>\n",
       "      <td>157</td>\n",
       "      <td>59</td>\n",
       "      <td>30</td>\n",
       "      <td>73</td>\n",
       "      <td>35</td>\n",
       "      <td>245</td>\n",
       "      <td>80</td>\n",
       "      <td>0.09385</td>\n",
       "      <td>0.65693</td>\n",
       "    </tr>\n",
       "  </tbody>\n",
       "</table>\n",
       "<p>5 rows × 88 columns</p>\n",
       "</div>"
      ],
      "text/plain": [
       "   chance_of_playing_next_round  chance_of_playing_this_round    code  \\\n",
       "0                         100.0                         100.0   58822   \n",
       "1                           NaN                           NaN   84450   \n",
       "2                         100.0                         100.0  153256   \n",
       "3                           NaN                           NaN  156074   \n",
       "4                         100.0                         100.0  167199   \n",
       "\n",
       "   cost_change_event  cost_change_event_fall  cost_change_start  \\\n",
       "0                  0                       0                 -3   \n",
       "1                  0                       0                  1   \n",
       "2                  0                       0                 -3   \n",
       "3                  0                       0                 -3   \n",
       "4                  0                       0                 -2   \n",
       "\n",
       "   cost_change_start_fall  dreamteam_count  element_type ep_next  ...  \\\n",
       "0                       3                0             2     1.0  ...   \n",
       "1                      -1                1             3     4.7  ...   \n",
       "2                       3                1             3     1.0  ...   \n",
       "3                       3                0             2     0.7  ...   \n",
       "4                       2                0             3     4.5  ...   \n",
       "\n",
       "  now_cost_rank  now_cost_rank_type form_rank form_rank_type  \\\n",
       "0           544                 157       303            101   \n",
       "1           171                  99        53             27   \n",
       "2           551                 284       304            141   \n",
       "3           552                 163       342            117   \n",
       "4           260                 157        59             30   \n",
       "\n",
       "   points_per_game_rank  points_per_game_rank_type selected_rank  \\\n",
       "0                   376                        141           402   \n",
       "1                    42                         20            83   \n",
       "2                   343                        150           209   \n",
       "3                   379                        144           419   \n",
       "4                    73                         35           245   \n",
       "\n",
       "  selected_rank_type  starts_per_90 clean_sheets_per_90  \n",
       "0                148        0.00000             0.00000  \n",
       "1                 28        0.07719             0.46312  \n",
       "2                 69        0.00000             0.00000  \n",
       "3                155        0.00000             0.00000  \n",
       "4                 80        0.09385             0.65693  \n",
       "\n",
       "[5 rows x 88 columns]"
      ]
     },
     "execution_count": 41,
     "metadata": {},
     "output_type": "execute_result"
    }
   ],
   "source": [
    "elements_df.head()"
   ]
  },
  {
   "cell_type": "code",
   "execution_count": 42,
   "metadata": {},
   "outputs": [
    {
     "name": "stdout",
     "output_type": "stream",
     "text": [
      "<class 'pandas.core.frame.DataFrame'>\n",
      "RangeIndex: 667 entries, 0 to 666\n",
      "Data columns (total 88 columns):\n",
      " #   Column                                Non-Null Count  Dtype  \n",
      "---  ------                                --------------  -----  \n",
      " 0   chance_of_playing_next_round          403 non-null    float64\n",
      " 1   chance_of_playing_this_round          402 non-null    float64\n",
      " 2   code                                  667 non-null    int64  \n",
      " 3   cost_change_event                     667 non-null    int64  \n",
      " 4   cost_change_event_fall                667 non-null    int64  \n",
      " 5   cost_change_start                     667 non-null    int64  \n",
      " 6   cost_change_start_fall                667 non-null    int64  \n",
      " 7   dreamteam_count                       667 non-null    int64  \n",
      " 8   element_type                          667 non-null    int64  \n",
      " 9   ep_next                               667 non-null    object \n",
      " 10  ep_this                               667 non-null    object \n",
      " 11  event_points                          667 non-null    int64  \n",
      " 12  first_name                            667 non-null    object \n",
      " 13  form                                  667 non-null    object \n",
      " 14  id                                    667 non-null    int64  \n",
      " 15  in_dreamteam                          667 non-null    bool   \n",
      " 16  news                                  667 non-null    object \n",
      " 17  news_added                            403 non-null    object \n",
      " 18  now_cost                              667 non-null    int64  \n",
      " 19  photo                                 667 non-null    object \n",
      " 20  points_per_game                       667 non-null    object \n",
      " 21  second_name                           667 non-null    object \n",
      " 22  selected_by_percent                   667 non-null    object \n",
      " 23  special                               667 non-null    bool   \n",
      " 24  squad_number                          0 non-null      object \n",
      " 25  status                                667 non-null    object \n",
      " 26  team                                  667 non-null    int64  \n",
      " 27  team_code                             667 non-null    int64  \n",
      " 28  total_points                          667 non-null    int64  \n",
      " 29  transfers_in                          667 non-null    int64  \n",
      " 30  transfers_in_event                    667 non-null    int64  \n",
      " 31  transfers_out                         667 non-null    int64  \n",
      " 32  transfers_out_event                   667 non-null    int64  \n",
      " 33  value_form                            667 non-null    object \n",
      " 34  value_season                          667 non-null    object \n",
      " 35  web_name                              667 non-null    object \n",
      " 36  minutes                               667 non-null    int64  \n",
      " 37  goals_scored                          667 non-null    int64  \n",
      " 38  assists                               667 non-null    int64  \n",
      " 39  clean_sheets                          667 non-null    int64  \n",
      " 40  goals_conceded                        667 non-null    int64  \n",
      " 41  own_goals                             667 non-null    int64  \n",
      " 42  penalties_saved                       667 non-null    int64  \n",
      " 43  penalties_missed                      667 non-null    int64  \n",
      " 44  yellow_cards                          667 non-null    int64  \n",
      " 45  red_cards                             667 non-null    int64  \n",
      " 46  saves                                 667 non-null    int64  \n",
      " 47  bonus                                 667 non-null    int64  \n",
      " 48  bps                                   667 non-null    int64  \n",
      " 49  influence                             667 non-null    object \n",
      " 50  creativity                            667 non-null    object \n",
      " 51  threat                                667 non-null    object \n",
      " 52  ict_index                             667 non-null    object \n",
      " 53  starts                                667 non-null    int64  \n",
      " 54  expected_goals                        667 non-null    object \n",
      " 55  expected_assists                      667 non-null    object \n",
      " 56  expected_goal_involvements            667 non-null    object \n",
      " 57  expected_goals_conceded               667 non-null    object \n",
      " 58  influence_rank                        667 non-null    int64  \n",
      " 59  influence_rank_type                   667 non-null    int64  \n",
      " 60  creativity_rank                       667 non-null    int64  \n",
      " 61  creativity_rank_type                  667 non-null    int64  \n",
      " 62  threat_rank                           667 non-null    int64  \n",
      " 63  threat_rank_type                      667 non-null    int64  \n",
      " 64  ict_index_rank                        667 non-null    int64  \n",
      " 65  ict_index_rank_type                   667 non-null    int64  \n",
      " 66  corners_and_indirect_freekicks_order  78 non-null     float64\n",
      " 67  corners_and_indirect_freekicks_text   667 non-null    object \n",
      " 68  direct_freekicks_order                59 non-null     float64\n",
      " 69  direct_freekicks_text                 667 non-null    object \n",
      " 70  penalties_order                       59 non-null     float64\n",
      " 71  penalties_text                        667 non-null    object \n",
      " 72  expected_goals_per_90                 667 non-null    float64\n",
      " 73  saves_per_90                          667 non-null    float64\n",
      " 74  expected_assists_per_90               667 non-null    float64\n",
      " 75  expected_goal_involvements_per_90     667 non-null    float64\n",
      " 76  expected_goals_conceded_per_90        667 non-null    float64\n",
      " 77  goals_conceded_per_90                 667 non-null    float64\n",
      " 78  now_cost_rank                         667 non-null    int64  \n",
      " 79  now_cost_rank_type                    667 non-null    int64  \n",
      " 80  form_rank                             667 non-null    int64  \n",
      " 81  form_rank_type                        667 non-null    int64  \n",
      " 82  points_per_game_rank                  667 non-null    int64  \n",
      " 83  points_per_game_rank_type             667 non-null    int64  \n",
      " 84  selected_rank                         667 non-null    int64  \n",
      " 85  selected_rank_type                    667 non-null    int64  \n",
      " 86  starts_per_90                         667 non-null    float64\n",
      " 87  clean_sheets_per_90                   667 non-null    float64\n",
      "dtypes: bool(2), float64(13), int64(47), object(26)\n",
      "memory usage: 449.6+ KB\n"
     ]
    }
   ],
   "source": [
    "elements_df.info()"
   ]
  },
  {
   "cell_type": "markdown",
   "metadata": {},
   "source": [
    "5. Element Types"
   ]
  },
  {
   "cell_type": "code",
   "execution_count": 43,
   "metadata": {},
   "outputs": [],
   "source": [
    "element_types_df = dfs['element_types']"
   ]
  },
  {
   "cell_type": "code",
   "execution_count": 44,
   "metadata": {},
   "outputs": [
    {
     "name": "stdout",
     "output_type": "stream",
     "text": [
      "<class 'pandas.core.frame.DataFrame'>\n",
      "RangeIndex: 4 entries, 0 to 3\n",
      "Data columns (total 11 columns):\n",
      " #   Column                Non-Null Count  Dtype \n",
      "---  ------                --------------  ----- \n",
      " 0   id                    4 non-null      int64 \n",
      " 1   plural_name           4 non-null      object\n",
      " 2   plural_name_short     4 non-null      object\n",
      " 3   singular_name         4 non-null      object\n",
      " 4   singular_name_short   4 non-null      object\n",
      " 5   squad_select          4 non-null      int64 \n",
      " 6   squad_min_play        4 non-null      int64 \n",
      " 7   squad_max_play        4 non-null      int64 \n",
      " 8   ui_shirt_specific     4 non-null      bool  \n",
      " 9   sub_positions_locked  4 non-null      object\n",
      " 10  element_count         4 non-null      int64 \n",
      "dtypes: bool(1), int64(5), object(5)\n",
      "memory usage: 452.0+ bytes\n"
     ]
    }
   ],
   "source": [
    "element_types_df.info()"
   ]
  },
  {
   "cell_type": "code",
   "execution_count": 45,
   "metadata": {},
   "outputs": [
    {
     "data": {
      "text/plain": [
       "0    Goalkeeper\n",
       "1      Defender\n",
       "2    Midfielder\n",
       "3       Forward\n",
       "Name: singular_name, dtype: object"
      ]
     },
     "execution_count": 45,
     "metadata": {},
     "output_type": "execute_result"
    }
   ],
   "source": [
    "element_types_df['singular_name']"
   ]
  },
  {
   "cell_type": "markdown",
   "metadata": {},
   "source": [
    "6. Element Stats"
   ]
  },
  {
   "cell_type": "code",
   "execution_count": 46,
   "metadata": {},
   "outputs": [],
   "source": [
    "element_stats_df = dfs['element_stats']"
   ]
  },
  {
   "cell_type": "code",
   "execution_count": 47,
   "metadata": {},
   "outputs": [
    {
     "data": {
      "text/html": [
       "<div>\n",
       "<style scoped>\n",
       "    .dataframe tbody tr th:only-of-type {\n",
       "        vertical-align: middle;\n",
       "    }\n",
       "\n",
       "    .dataframe tbody tr th {\n",
       "        vertical-align: top;\n",
       "    }\n",
       "\n",
       "    .dataframe thead th {\n",
       "        text-align: right;\n",
       "    }\n",
       "</style>\n",
       "<table border=\"1\" class=\"dataframe\">\n",
       "  <thead>\n",
       "    <tr style=\"text-align: right;\">\n",
       "      <th></th>\n",
       "      <th>label</th>\n",
       "      <th>name</th>\n",
       "    </tr>\n",
       "  </thead>\n",
       "  <tbody>\n",
       "    <tr>\n",
       "      <th>0</th>\n",
       "      <td>Minutes played</td>\n",
       "      <td>minutes</td>\n",
       "    </tr>\n",
       "    <tr>\n",
       "      <th>1</th>\n",
       "      <td>Goals scored</td>\n",
       "      <td>goals_scored</td>\n",
       "    </tr>\n",
       "    <tr>\n",
       "      <th>2</th>\n",
       "      <td>Assists</td>\n",
       "      <td>assists</td>\n",
       "    </tr>\n",
       "    <tr>\n",
       "      <th>3</th>\n",
       "      <td>Clean sheets</td>\n",
       "      <td>clean_sheets</td>\n",
       "    </tr>\n",
       "    <tr>\n",
       "      <th>4</th>\n",
       "      <td>Goals conceded</td>\n",
       "      <td>goals_conceded</td>\n",
       "    </tr>\n",
       "  </tbody>\n",
       "</table>\n",
       "</div>"
      ],
      "text/plain": [
       "            label            name\n",
       "0  Minutes played         minutes\n",
       "1    Goals scored    goals_scored\n",
       "2         Assists         assists\n",
       "3    Clean sheets    clean_sheets\n",
       "4  Goals conceded  goals_conceded"
      ]
     },
     "execution_count": 47,
     "metadata": {},
     "output_type": "execute_result"
    }
   ],
   "source": [
    "element_stats_df.head()"
   ]
  },
  {
   "cell_type": "code",
   "execution_count": 48,
   "metadata": {},
   "outputs": [
    {
     "data": {
      "text/plain": [
       "(22, 2)"
      ]
     },
     "execution_count": 48,
     "metadata": {},
     "output_type": "execute_result"
    }
   ],
   "source": [
    "element_stats_df.shape"
   ]
  },
  {
   "cell_type": "code",
   "execution_count": null,
   "metadata": {},
   "outputs": [],
   "source": []
  }
 ],
 "metadata": {
  "kernelspec": {
   "display_name": "Python 3.9.0 ('min_data_sci')",
   "language": "python",
   "name": "python3"
  },
  "language_info": {
   "codemirror_mode": {
    "name": "ipython",
    "version": 3
   },
   "file_extension": ".py",
   "mimetype": "text/x-python",
   "name": "python",
   "nbconvert_exporter": "python",
   "pygments_lexer": "ipython3",
   "version": "3.9.0"
  },
  "orig_nbformat": 4,
  "vscode": {
   "interpreter": {
    "hash": "3fd59f9339ee61c3d59ae4516a489afe4f701461fcab58129cc35a089ef68c67"
   }
  }
 },
 "nbformat": 4,
 "nbformat_minor": 2
}
